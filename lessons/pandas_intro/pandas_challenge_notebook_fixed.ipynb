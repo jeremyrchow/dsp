{
 "cells": [
  {
   "cell_type": "code",
   "execution_count": 29,
   "metadata": {},
   "outputs": [],
   "source": [
    "# WARNING: If you close your browser, your work will be LOST!\n",
    "from collections import Counter\n",
    "# Q1: import numpy and pandas\n",
    "import numpy as np\n",
    "import pandas as pd\n"
   ]
  },
  {
   "cell_type": "code",
   "execution_count": 70,
   "metadata": {},
   "outputs": [
    {
     "data": {
      "text/plain": [
       "20"
      ]
     },
     "execution_count": 70,
     "metadata": {},
     "output_type": "execute_result"
    }
   ],
   "source": [
    "\n",
    "# Q2: Set options in pandas so it displays 30 `max_rows` \n",
    "#                                 no limit on `max_columns`\n",
    "#                                 precision is 3\n",
    "pd.options.display.max_rows = 30\n",
    "pd.reset_option('max_columns',0)\n",
    "pd.options.display.precision = 3\n",
    "pd.get_option('max_columns')"
   ]
  },
  {
   "cell_type": "code",
   "execution_count": 9,
   "metadata": {},
   "outputs": [],
   "source": [
    "\n",
    "# Q3: assign the versions of pandas and numpy to variables below\n",
    "pd_version = pd.__version__\n",
    "np_version = np.version.version\n"
   ]
  },
  {
   "cell_type": "code",
   "execution_count": 12,
   "metadata": {},
   "outputs": [],
   "source": [
    "\n",
    "# Q4: Read in the csv file \"olive.csv\" with pandas. \n",
    "#     The file exists in the workspace.\n",
    "#     Assign it to variable `df`\n",
    "df = pd.read_csv('olive.csv')\n",
    "\n",
    "# The fields are:\n",
    "\n",
    "# Unnamed: 0\n",
    "# region\n",
    "# area\n",
    "# palmitic\n",
    "# palmitoleic\n",
    "# stearic\n",
    "# oleic\n",
    "# linoleic\n",
    "# linolenic\n",
    "# arachidic\n",
    "# eicosenoic\n",
    "\n"
   ]
  },
  {
   "cell_type": "code",
   "execution_count": 14,
   "metadata": {},
   "outputs": [],
   "source": [
    "\n",
    "# Q5: How many rows and columns are there in `df`? Put your answer in a variable `df_shape`.\n",
    "df_shape = df.shape\n"
   ]
  },
  {
   "cell_type": "code",
   "execution_count": 16,
   "metadata": {},
   "outputs": [
    {
     "name": "stdout",
     "output_type": "stream",
     "text": [
      "       Unnamed: 0  region  area  palmitic  palmitoleic  stearic  oleic  linoleic  linolenic  arachidic  eicosenoic\n",
      "0  1.North-Apulia       1     1      1075           75      226   7823       672         36         60          29\n",
      "1  2.North-Apulia       1     1      1088           73      224   7709       781         31         61          29\n"
     ]
    }
   ],
   "source": [
    "\n",
    "# Q6: assign the first 2 rows of `df` to `df_first_two`\n",
    "df_first_two = df[:2][:]\n"
   ]
  },
  {
   "cell_type": "code",
   "execution_count": 36,
   "metadata": {},
   "outputs": [],
   "source": [
    "\n",
    "# Q7: How many distinct data types are there in `df`?\n",
    "df_data_types_count = len(df.dtypes.unique()) # this should be an integer\n"
   ]
  },
  {
   "cell_type": "code",
   "execution_count": 51,
   "metadata": {},
   "outputs": [],
   "source": [
    "\n",
    "# Q8: In `df`, create a new column 'sub_region_raw', which will be a copy of the column 'Unnamed: 0'\n",
    "df['sub_region_raw'] = df['Unnamed: 0']\n",
    "# Q9: In `df`, rename 'Unnamed: 0' to 'sub_region_desc'\n",
    "# Q10: In `df`, rename the column 'area' to: 'sub_region'\n",
    "\n",
    "\n",
    "df=df.rename(columns = {'Unnamed: 0':'sub_region_desc','area':'sub_region'})"
   ]
  },
  {
   "cell_type": "code",
   "execution_count": 45,
   "metadata": {},
   "outputs": [],
   "source": [
    "# Q11: In `df`, get the unique values of the field 'region'\n",
    "region_unique = df['region'].unique()\n"
   ]
  },
  {
   "cell_type": "code",
   "execution_count": 54,
   "metadata": {},
   "outputs": [],
   "source": [
    "\n",
    "# Q12: In `df`, how many unique values of the field 'sub_region' are there?\n",
    "sub_region_unique_count = len(df['sub_region'].unique())  # should be an integer"
   ]
  },
  {
   "cell_type": "code",
   "execution_count": 63,
   "metadata": {},
   "outputs": [],
   "source": [
    "\n",
    "df.head()\n",
    "df.tail()\n",
    "# Q13: Lets take a look at the field `sub_region_desc`:\n",
    "\n",
    "# >>> df['sub_region_desc'].head(5)\n",
    "# 0    1.North-Apulia\n",
    "# 1    2.North-Apulia\n",
    "# 2    3.North-Apulia\n",
    "# 3    4.North-Apulia\n",
    "# 4    5.North-Apulia\n",
    "# Looks like 'sub_region_desc' has line numbers attached to the beginning of region name. Remove those and get the unique values in that field, assign it to `srd_unique`\n",
    "srd_unique = len(df['sub_region_desc'].apply(lambda item: item[item.find('.')+1:]).unique())"
   ]
  },
  {
   "cell_type": "code",
   "execution_count": null,
   "metadata": {},
   "outputs": [],
   "source": []
  }
 ],
 "metadata": {
  "kernelspec": {
   "display_name": "Python 3",
   "language": "python",
   "name": "python3"
  },
  "language_info": {
   "codemirror_mode": {
    "name": "ipython",
    "version": 3
   },
   "file_extension": ".py",
   "mimetype": "text/x-python",
   "name": "python",
   "nbconvert_exporter": "python",
   "pygments_lexer": "ipython3",
   "version": "3.7.2"
  }
 },
 "nbformat": 4,
 "nbformat_minor": 2
}
